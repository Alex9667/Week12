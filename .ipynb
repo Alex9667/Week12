{
 "cells": [
  {
   "cell_type": "code",
   "execution_count": 30,
   "metadata": {},
   "outputs": [
    {
     "name": "stdout",
     "output_type": "stream",
     "text": [
      "          IP Mean      IP Sd  IP Kurtosis  IP Skewness  DM-SNR Mean  \\\n",
      "0      140.562500  55.683782    -0.234571    -0.699648     3.199833   \n",
      "1      102.507812  58.882430     0.465318    -0.515088     1.677258   \n",
      "2      103.015625  39.341649     0.323328     1.051164     3.121237   \n",
      "3      136.750000  57.178449    -0.068415    -0.636238     3.642977   \n",
      "4       88.726562  40.672225     0.600866     1.123492     1.178930   \n",
      "...           ...        ...          ...          ...          ...   \n",
      "17893  136.429688  59.847421    -0.187846    -0.738123     1.296823   \n",
      "17894  122.554688  49.485605     0.127978     0.323061    16.409699   \n",
      "17895  119.335938  59.935939     0.159363    -0.743025    21.430602   \n",
      "17896  114.507812  53.902400     0.201161    -0.024789     1.946488   \n",
      "17897   57.062500  85.797340     1.406391     0.089520   188.306020   \n",
      "\n",
      "       DM-SNR Sd  DM-SNR Kurtosis  DM-SNR Skewness  target_class  \n",
      "0      19.110426         7.975532        74.242225             0  \n",
      "1      14.860146        10.576487       127.393580             0  \n",
      "2      21.744669         7.735822        63.171909             0  \n",
      "3      20.959280         6.896499        53.593661             0  \n",
      "4      11.468720        14.269573       252.567306             0  \n",
      "...          ...              ...              ...           ...  \n",
      "17893  12.166062        15.450260       285.931022             0  \n",
      "17894  44.626893         2.945244         8.297092             0  \n",
      "17895  58.872000         2.499517         4.595173             0  \n",
      "17896  13.381731        10.007967       134.238910             0  \n",
      "17897  64.712562        -1.597527         1.429475             0  \n",
      "\n",
      "[17898 rows x 9 columns]\n"
     ]
    }
   ],
   "source": [
    "import numpy as np\n",
    "import numpy.ma as ma\n",
    "import pandas as pd \n",
    "import matplotlib as mpl\n",
    "import seaborn as sb\n",
    "import sklearn as sl \n",
    "from sklearn.model_selection import train_test_split\n",
    "from sklearn.linear_model import LinearRegression\n",
    "from sklearn.preprocessing import PolynomialFeatures\n",
    "from sklearn import svm\n",
    "\n",
    "Pulsar = pd.read_csv(\"pulsar_stars.csv\")\n",
    "df = pd.DataFrame(Pulsar)\n",
    "\n",
    "df = df.set_axis(['IP Mean', 'IP Sd', 'IP Kurtosis', 'IP Skewness', 'DM-SNR Mean', 'DM-SNR Sd', 'DM-SNR Kurtosis', 'DM-SNR Skewness', 'target_class'], axis=1)\n",
    "print (df)\n",
    "df['target_class'].value_counts(normalize=1)*100\n",
    "X = df.drop(['target_class'], axis=1)\n",
    "y = df['target_class']\n",
    "X_train, X_test, y_train, y_test = train_test_split(X,y,test_size=0.20)\n",
    "svc = svm.SVC(kernel='linear').fit(X_train, y_train)\n",
    "\n",
    "\n",
    "\n",
    "\n"
   ]
  },
  {
   "cell_type": "code",
   "execution_count": null,
   "metadata": {},
   "outputs": [],
   "source": []
  },
  {
   "cell_type": "code",
   "execution_count": null,
   "metadata": {},
   "outputs": [],
   "source": []
  }
 ],
 "metadata": {
  "kernelspec": {
   "display_name": "env",
   "language": "python",
   "name": "python3"
  },
  "language_info": {
   "codemirror_mode": {
    "name": "ipython",
    "version": 3
   },
   "file_extension": ".py",
   "mimetype": "text/x-python",
   "name": "python",
   "nbconvert_exporter": "python",
   "pygments_lexer": "ipython3",
   "version": "3.12.2"
  }
 },
 "nbformat": 4,
 "nbformat_minor": 2
}
